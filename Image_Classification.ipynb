{
  "nbformat": 4,
  "nbformat_minor": 0,
  "metadata": {
    "colab": {
      "name": "Image Classification.ipynb",
      "provenance": [],
      "collapsed_sections": [],
      "authorship_tag": "ABX9TyO07o0gGgUewyB0Xes0+EAw",
      "include_colab_link": true
    },
    "kernelspec": {
      "name": "python3",
      "display_name": "Python 3"
    },
    "language_info": {
      "name": "python"
    }
  },
  "cells": [
    {
      "cell_type": "markdown",
      "metadata": {
        "id": "view-in-github",
        "colab_type": "text"
      },
      "source": [
        "<a href=\"https://colab.research.google.com/github/Dhonikena/Minor-Project/blob/main/Image_Classification.ipynb\" target=\"_parent\"><img src=\"https://colab.research.google.com/assets/colab-badge.svg\" alt=\"Open In Colab\"/></a>"
      ]
    },
    {
      "cell_type": "code",
      "metadata": {
        "colab": {
          "base_uri": "https://localhost:8080/"
        },
        "id": "bmE9x_AVILJ7",
        "outputId": "1098515a-bd47-4afe-cbbf-bc40a30d1ede"
      },
      "source": [
        "!pip install bing-image-downloader"
      ],
      "execution_count": null,
      "outputs": [
        {
          "output_type": "stream",
          "text": [
            "Collecting bing-image-downloader\n",
            "  Downloading https://files.pythonhosted.org/packages/c2/04/1872a689a30036aa0b81ac9fca124a7413cad71fdab714f727cf1a34b671/bing_image_downloader-1.1.1-py3-none-any.whl\n",
            "Installing collected packages: bing-image-downloader\n",
            "Successfully installed bing-image-downloader-1.1.1\n"
          ],
          "name": "stdout"
        }
      ]
    },
    {
      "cell_type": "code",
      "metadata": {
        "id": "dyeFmFbr0ouc"
      },
      "source": [
        "!mkdir images\n"
      ],
      "execution_count": null,
      "outputs": []
    },
    {
      "cell_type": "code",
      "metadata": {
        "colab": {
          "base_uri": "https://localhost:8080/"
        },
        "id": "FYo8oKYUJoEA",
        "outputId": "b3d92d00-a543-4ed9-893a-fc70d91b3dab"
      },
      "source": [
        "from bing_image_downloader import downloader\n",
        "downloader.download(\"polar bear species\",limit = 50,output_dir='images',\n",
        "                    adult_filter_off=True)"
      ],
      "execution_count": null,
      "outputs": [
        {
          "output_type": "stream",
          "text": [
            "[%] Downloading Images to /content/images/polar bear species\n",
            "\n",
            "\n",
            "[!!]Indexing page: 1\n",
            "\n",
            "[%] Indexed 50 Images on Page 1.\n",
            "\n",
            "===============================================\n",
            "\n",
            "[%] Downloading Image #1 from http://allthatsinteresting.com/wordpress/wp-content/uploads/2016/08/polar-bear-family.jpg\n",
            "[%] File Downloaded !\n",
            "\n",
            "[%] Downloading Image #2 from http://all-that-is-interesting.com/wordpress/wp-content/uploads/2016/08/staring-polar-bear.jpg\n",
            "[%] File Downloaded !\n",
            "\n",
            "[%] Downloading Image #3 from http://all-that-is-interesting.com/wordpress/wp-content/uploads/2016/08/mom-protecting-cub.jpg\n",
            "[%] File Downloaded !\n",
            "\n",
            "[%] Downloading Image #4 from https://allthatsinteresting.com/wordpress/wp-content/uploads/2016/08/two-polar-bear-cubs.jpg\n",
            "[%] File Downloaded !\n",
            "\n",
            "[%] Downloading Image #5 from https://images.saymedia-content.com/.image/t_share/MTc2NDY2MzM1MzI3OTg2OTAx/polar-bears-are-losing-their-homes.jpg\n",
            "[%] File Downloaded !\n",
            "\n",
            "[%] Downloading Image #6 from https://i.pinimg.com/originals/28/66/8c/28668c41846bb0be31a47b96e672ba83.jpg\n",
            "[%] File Downloaded !\n",
            "\n",
            "[%] Downloading Image #7 from https://s-media-cache-ak0.pinimg.com/564x/12/2e/7f/122e7f4330ef37f74d1f90def8c9e3fe.jpg\n",
            "[%] File Downloaded !\n",
            "\n",
            "[%] Downloading Image #8 from https://i.pinimg.com/originals/16/fc/d1/16fcd1b32b12e67b5cc392b5a7f7148a.jpg\n",
            "[%] File Downloaded !\n",
            "\n",
            "[%] Downloading Image #9 from https://allthatsinteresting.com/wordpress/wp-content/uploads/2016/08/polar-bear-close-up.jpg\n",
            "[%] File Downloaded !\n",
            "\n",
            "[%] Downloading Image #10 from http://polarbearsinternational.org/media/2992/013251907.jpg\n",
            "[%] File Downloaded !\n",
            "\n",
            "[%] Downloading Image #11 from https://i.pinimg.com/originals/73/1f/d1/731fd11390bee8813c56c893ba00f095.jpg\n",
            "[%] File Downloaded !\n",
            "\n",
            "[%] Downloading Image #12 from https://www.cfact.org/wp-content/uploads/2019/10/auto-draft-48.jpg\n",
            "[%] File Downloaded !\n",
            "\n",
            "[%] Downloading Image #13 from https://allthatsinteresting.com/wordpress/wp-content/uploads/2016/08/running-youngster.jpg\n",
            "[%] File Downloaded !\n",
            "\n",
            "[%] Downloading Image #14 from http://polarbearsinternational.org/media/3352/1_kt-miller-3160.jpg?width=800&amp;\n",
            "[%] File Downloaded !\n",
            "\n",
            "[%] Downloading Image #15 from https://s3.amazonaws.com/Photo_of_the_Day/system/uploads/photo/image/346/sized_Snowy4.jpg\n",
            "[%] File Downloaded !\n",
            "\n",
            "[%] Downloading Image #16 from http://cdn2.matadornetwork.com/blogs/1/2012/11/%C2%A9Matador.Network.PolarBears-12.jpg\n",
            "[%] File Downloaded !\n",
            "\n",
            "[%] Downloading Image #17 from https://wpcloud.ovh/WP-DN001/wp-content/uploads/2020/02/attenboroughs-arctic-betrayal-new-video-reveals-that-terrorizing-young-children-about-climate-began-with-polar-bears.jpg\n",
            "[%] File Downloaded !\n",
            "\n",
            "[%] Downloading Image #18 from http://allthatsinteresting.com/wordpress/wp-content/uploads/2016/08/polar-bear-hunt.jpg\n",
            "[%] File Downloaded !\n",
            "\n",
            "[%] Downloading Image #19 from https://images.saymedia-content.com/.image/t_share/MTc2NDY2MzM1MzI3NDYyNjEz/polar-bears-are-losing-their-homes.jpg\n",
            "[%] File Downloaded !\n",
            "\n",
            "[%] Downloading Image #20 from https://www.rd.com/wp-content/uploads/2020/02/GettyImages-187514202-1.jpg\n",
            "[%] File Downloaded !\n",
            "\n",
            "[%] Downloading Image #21 from https://i.pinimg.com/originals/84/ed/f4/84edf454377353de2083bff3952f0be1.jpg\n",
            "[%] File Downloaded !\n",
            "\n",
            "[%] Downloading Image #22 from https://www.mammalwatching.com/wp-content/uploads/2015/04/0-oz9w91261-1024x794.jpg\n",
            "[%] File Downloaded !\n",
            "\n",
            "[%] Downloading Image #23 from https://i.pinimg.com/originals/cc/0a/43/cc0a430f249c99461af21a398bca588d.jpg\n",
            "[%] File Downloaded !\n",
            "\n",
            "[%] Downloading Image #24 from https://i.pinimg.com/originals/5a/a2/d4/5aa2d4bd10c368918644b63060547358.jpg\n",
            "[%] File Downloaded !\n",
            "\n",
            "[%] Downloading Image #25 from http://all-that-is-interesting.com/wordpress/wp-content/uploads/2016/08/mom-cub.jpg\n",
            "[%] File Downloaded !\n",
            "\n",
            "[%] Downloading Image #26 from http://ww1.hdnux.com/photos/10/77/17/2356168/7/920x920.jpg\n",
            "[%] File Downloaded !\n",
            "\n",
            "[%] Downloading Image #27 from http://allthatsinteresting.com/wordpress/wp-content/uploads/2016/08/climbing-polar-bear.jpg\n",
            "[%] File Downloaded !\n",
            "\n",
            "[%] Downloading Image #28 from https://hebspeaks.files.wordpress.com/2017/12/polarbearstoledozoo.jpg?w=768\n",
            "[%] File Downloaded !\n",
            "\n",
            "[%] Downloading Image #29 from https://d.ibtimes.co.uk/en/full/1572692/polar-bear-family.jpg\n",
            "[%] File Downloaded !\n",
            "\n",
            "[%] Downloading Image #30 from http://viewkick.com/content/600_315/2015/08/6a00d8341c565553ef01348578da86970c-10yioif7M7.jpg\n",
            "[%] File Downloaded !\n",
            "\n",
            "[%] Downloading Image #31 from https://i.pinimg.com/474x/88/49/11/8849113e60daf8dd6121e20ba43590e0--teddy-bears-polar-bears.jpg\n",
            "[%] File Downloaded !\n",
            "\n",
            "[%] Downloading Image #32 from http://all-that-is-interesting.com/wordpress/wp-content/uploads/2016/08/polar-bear-portrait-.jpg\n",
            "[%] File Downloaded !\n",
            "\n",
            "[%] Downloading Image #33 from https://healthzap.co/wp-content/uploads/2019/06/Taps-the-bear-2.jpg\n",
            "[%] File Downloaded !\n",
            "\n",
            "[%] Downloading Image #34 from https://en.visitsvalbard.com/dbimgs/Polarbear25.jpg\n",
            "[%] File Downloaded !\n",
            "\n",
            "[%] Downloading Image #35 from https://facts.net/wp-content/uploads/2015/08/Polar-Bear.jpg\n",
            "[%] File Downloaded !\n",
            "\n",
            "[%] Downloading Image #36 from http://allthatsinteresting.com/wordpress/wp-content/uploads/2016/08/wet-polar-bear.jpg\n",
            "[%] File Downloaded !\n",
            "\n",
            "[%] Downloading Image #37 from https://www.treehugger.com/thmb/Sne_B-YV9sJFDiFP3dQWfwGclSc=/7000x4062/filters:no_upscale():max_bytes(150000):strip_icc()/__opt__aboutcom__coeus__resources__content_migration__mnn__images__2018__02__polar-bear-sea-ice-05-7793054781ec4e5ba0006a2b03def51c.jpg\n",
            "[%] File Downloaded !\n",
            "\n",
            "[%] Downloading Image #38 from https://hebspeaks.files.wordpress.com/2017/12/newbornpolarbear.jpg?w=775\n",
            "[%] File Downloaded !\n",
            "\n",
            "[%] Downloading Image #39 from https://www.gannett-cdn.com/presto/2018/09/19/PCIN/de60201e-ff37-4a60-a1d2-4726243f00c2-Zoo12.JPG?crop=5759,3224,x0,y0&amp;width=3200&amp;height=1792&amp;format=pjpg&amp;auto=webp\n",
            "[%] File Downloaded !\n",
            "\n",
            "[%] Downloading Image #40 from https://www.rd.com/wp-content/uploads/2019/02/shutterstock_403893418-760x506.jpg\n",
            "[%] File Downloaded !\n",
            "\n",
            "[%] Downloading Image #41 from http://all-that-is-interesting.com/wordpress/wp-content/uploads/2016/08/polar-bear-walking-snow.jpg\n",
            "[%] File Downloaded !\n",
            "\n",
            "[%] Downloading Image #42 from https://allthatsinteresting.com/wordpress/wp-content/uploads/2016/08/polar-bear-facts.jpg\n",
            "[%] File Downloaded !\n",
            "\n",
            "[%] Downloading Image #43 from https://viewkick.com/content/1200/2015/08/wdr0jm5-tfklo0ZQhl.jpg\n",
            "[%] File Downloaded !\n",
            "\n",
            "[%] Downloading Image #44 from https://unofficialnetworks.com/wp-content/uploads/sites/88/2018/07/screen-shot-2018-07-11-at-10-33-59-am.png?w=1024&amp;h=576&amp;crop=1\n",
            "[%] File Downloaded !\n",
            "\n",
            "[%] Downloading Image #45 from http://i.dailymail.co.uk/i/pix/2017/04/20/13/3F6B791D00000578-4428678-image-a-16_1492689945086.jpg\n",
            "[Error]Invalid image, not saving http://i.dailymail.co.uk/i/pix/2017/04/20/13/3F6B791D00000578-4428678-image-a-16_1492689945086.jpg\n",
            "\n",
            "[!] Issue getting: http://i.dailymail.co.uk/i/pix/2017/04/20/13/3F6B791D00000578-4428678-image-a-16_1492689945086.jpg\n",
            "[!] Error:: Invalid image, not saving http://i.dailymail.co.uk/i/pix/2017/04/20/13/3F6B791D00000578-4428678-image-a-16_1492689945086.jpg\n",
            "\n",
            "[%] Downloading Image #45 from https://upload.wikimedia.org/wikipedia/commons/7/79/2010-brown-bear.jpg\n",
            "[%] File Downloaded !\n",
            "\n",
            "[%] Downloading Image #46 from https://i.pinimg.com/originals/b7/20/bd/b720bd4bbea5f5a0dad44016d1d56429.jpg\n",
            "[%] File Downloaded !\n",
            "\n",
            "[%] Downloading Image #47 from https://www.animalfactsencyclopedia.com/images/polarbearportait.jpg.pagespeed.ce.-_NLy_emOC.jpg\n",
            "[%] File Downloaded !\n",
            "\n",
            "[%] Downloading Image #48 from https://2.bp.blogspot.com/-2pU30qWWwQw/T5ORP1FQ6-I/AAAAAAAAB08/OO6Q2fSfqJo/s1600/brown-bear.jpg\n",
            "[%] File Downloaded !\n",
            "\n",
            "[%] Downloading Image #49 from https://allthatsinteresting.com/wordpress/wp-content/uploads/2016/08/bears-in-london.jpg\n",
            "[%] File Downloaded !\n",
            "\n",
            "\n",
            "\n",
            "[!!]Indexing page: 2\n",
            "\n",
            "[%] Indexed 35 Images on Page 2.\n",
            "\n",
            "===============================================\n",
            "\n",
            "[%] Downloading Image #50 from http://allthatsinteresting.com/wordpress/wp-content/uploads/2016/08/polar-bear-family.jpg\n",
            "[%] File Downloaded !\n",
            "\n",
            "\n",
            "\n",
            "[%] Done. Downloaded 50 images.\n",
            "===============================================\n",
            "\n",
            "Please show your support here\n",
            "https://www.buymeacoffee.com/gurugaurav\n",
            "\n",
            "===============================================\n",
            "\n"
          ],
          "name": "stdout"
        }
      ]
    },
    {
      "cell_type": "code",
      "metadata": {
        "id": "YfLegyEF0zaL"
      },
      "source": [
        ""
      ],
      "execution_count": null,
      "outputs": []
    },
    {
      "cell_type": "code",
      "metadata": {
        "colab": {
          "base_uri": "https://localhost:8080/"
        },
        "id": "gtz8E3HmJ2HY",
        "outputId": "b1963d84-9be2-4957-c990-92afa28f6847"
      },
      "source": [
        "from bing_image_downloader import downloader\n",
        "downloader.download(\"penguin species\",limit = 50,output_dir='images',\n",
        "                    adult_filter_off=True)"
      ],
      "execution_count": null,
      "outputs": [
        {
          "output_type": "stream",
          "text": [
            "[%] Downloading Images to /content/images/penguin species\n",
            "\n",
            "\n",
            "[!!]Indexing page: 1\n",
            "\n",
            "[%] Indexed 50 Images on Page 1.\n",
            "\n",
            "===============================================\n",
            "\n",
            "[%] Downloading Image #1 from https://www.rd.com/wp-content/uploads/2020/01/emperor-penguins-brave-a-storm-in-the-antarctica-jan-2016.jpg\n",
            "[%] File Downloaded !\n",
            "\n",
            "[%] Downloading Image #2 from https://4.bp.blogspot.com/-pU5ZvS92JJc/TV94pCbT36I/AAAAAAAAAyw/Clbw1GB4Fi0/s1600/Chinstrap+Pe.jpg\n",
            "[%] File Downloaded !\n",
            "\n",
            "[%] Downloading Image #3 from https://www.worldatlas.com/r/w1200/upload/31/e8/b8/shutterstock-1214030362.jpg\n",
            "[Error]Invalid image, not saving https://www.worldatlas.com/r/w1200/upload/31/e8/b8/shutterstock-1214030362.jpg\n",
            "\n",
            "[!] Issue getting: https://www.worldatlas.com/r/w1200/upload/31/e8/b8/shutterstock-1214030362.jpg\n",
            "[!] Error:: Invalid image, not saving https://www.worldatlas.com/r/w1200/upload/31/e8/b8/shutterstock-1214030362.jpg\n",
            "\n",
            "[%] Downloading Image #3 from https://www.thoughtco.com/thmb/cZhWFIbY159WF1JfCe5vH-3C1_U=/2121x1414/filters:no_upscale():max_bytes(150000):strip_icc()/GettyImages-670771046-59a606e99abed50011eb1368.jpg\n",
            "[%] File Downloaded !\n",
            "\n",
            "[%] Downloading Image #4 from https://animallova.com/wp-content/uploads/2019/08/antarctica-emperor-penguins-white-desert-2.jpg\n",
            "[%] File Downloaded !\n",
            "\n",
            "[%] Downloading Image #5 from https://www.ourbreathingplanet.com/wp-content/uploads/2019/03/African-Penguin-4-683x1024.jpg\n",
            "[%] File Downloaded !\n",
            "\n",
            "[%] Downloading Image #6 from https://www.peta.org/wp-content/uploads/2013/10/580_2D00_angry_2D00_penguin.jpg\n",
            "[%] File Downloaded !\n",
            "\n",
            "[%] Downloading Image #7 from https://i.pinimg.com/originals/ca/4a/b5/ca4ab57e445e1e2f78a6bbcc77468565.jpg\n",
            "[%] File Downloaded !\n",
            "\n",
            "[%] Downloading Image #8 from http://3.bp.blogspot.com/_W90V87w3sr8/TP3ROy7LZzI/AAAAAAAAAXg/iQVVRg4aHkg/s1600/companions_adelie_penguins.jpg\n",
            "[%] File Downloaded !\n",
            "\n",
            "[%] Downloading Image #9 from https://i.pinimg.com/originals/24/29/3b/24293bc62a98ca025140fdc7611d2b2c.jpg\n",
            "[%] File Downloaded !\n",
            "\n",
            "[%] Downloading Image #10 from http://antarcticguide.com/wp-content/uploads/2011/10/DSC_6566-Adelie2-1024x927.jpg\n",
            "[%] File Downloaded !\n",
            "\n",
            "[%] Downloading Image #11 from https://galapagosconservation.org.uk/wp-content/uploads/2015/11/Galapagos-Penguin-©-GCT.jpg\n",
            "[!] Issue getting: https://galapagosconservation.org.uk/wp-content/uploads/2015/11/Galapagos-Penguin-©-GCT.jpg\n",
            "[!] Error:: 'ascii' codec can't encode character '\\xa9' in position 50: ordinal not in range(128)\n",
            "[%] Downloading Image #11 from http://www.pewtrusts.org/~/media/Post-Launch-Images/2015/01/penguins/adelie_gentoo_4x3.jpg?mh=365&amp;mw=650\n",
            "[%] File Downloaded !\n",
            "\n",
            "[%] Downloading Image #12 from http://farm2.static.flickr.com/1004/552264573_5040b9e351_b_d.jpg\n",
            "[%] File Downloaded !\n",
            "\n",
            "[%] Downloading Image #13 from http://4.bp.blogspot.com/-UUm_8T8OS_E/UFU1lv7XjfI/AAAAAAAACY4/umIZsrgGrbQ/s1600/Royal-Penguin-2.jpg\n",
            "[%] File Downloaded !\n",
            "\n",
            "[%] Downloading Image #14 from https://lh5.googleusercontent.com/-XeAptc2IF8k/TYH725oIb3I/AAAAAAAABw8/lQ35cALxu6s/w1200-h630-p-nu/NZ08_2874.jpg\n",
            "[%] File Downloaded !\n",
            "\n",
            "[%] Downloading Image #15 from http://coolantarctica.com/Antarctica fact file/wildlife/penguin4.jpg\n",
            "[!] Issue getting: http://coolantarctica.com/Antarctica fact file/wildlife/penguin4.jpg\n",
            "[!] Error:: URL can't contain control characters. '/Antarctica fact file/wildlife/penguin4.jpg' (found at least ' ')\n",
            "[%] Downloading Image #15 from https://s3.eu-west-1.amazonaws.com/mundy.assets.d3r.com/images/hero_large/49021-silversea-penguins-antarctica-south-georgia.jpg\n",
            "[%] File Downloaded !\n",
            "\n",
            "[%] Downloading Image #16 from https://www.atlnightspots.com/wp-content/uploads/2020/08/Penguins-Mate-For-Life-1024x667.jpg\n",
            "[%] File Downloaded !\n",
            "\n",
            "[%] Downloading Image #17 from https://i.pinimg.com/736x/1c/2a/3c/1c2a3cc463470a826f8a0af0e914e135--penguin-parade-penguin-love.jpg\n",
            "[%] File Downloaded !\n",
            "\n",
            "[%] Downloading Image #18 from https://s27142.pcdn.co/wp-content/uploads/2018/03/Susan-McConnell-Penguin-3.jpg\n",
            "[%] File Downloaded !\n",
            "\n",
            "[%] Downloading Image #19 from https://i.pinimg.com/originals/54/88/5f/54885f2288da1e695c2ae4be59ae58b8.jpg\n",
            "[%] File Downloaded !\n",
            "\n",
            "[%] Downloading Image #20 from https://trszone.com/wp-content/uploads/2020/08/c7f36188e09cdd8829995c58f6e95d7e.jpg\n",
            "[%] File Downloaded !\n",
            "\n",
            "[%] Downloading Image #21 from http://1.bp.blogspot.com/-LyZmMdZH5zw/UNeHwxVyHfI/AAAAAAAAEic/7mLyk1191Ew/w1200-h630-p-k-no-nu/Emperor_Penguin.jpg\n",
            "[%] File Downloaded !\n",
            "\n",
            "[%] Downloading Image #22 from https://i.pinimg.com/originals/63/fe/4a/63fe4a357fdbc54d628152b4b48d3e7b.jpg\n",
            "[%] File Downloaded !\n",
            "\n",
            "[%] Downloading Image #23 from https://img.chainimage.com/images/adelie-penguin-wallpapers-pictures-photos-pics-images-desktop-2.jpg\n",
            "[%] File Downloaded !\n",
            "\n",
            "[%] Downloading Image #24 from http://1.bp.blogspot.com/_W90V87w3sr8/TQUgnyROImI/AAAAAAAAAaY/SIBg-8owleY/s1600/African_penguin_near_Boulders_Beach.jpg\n",
            "[%] File Downloaded !\n",
            "\n",
            "[%] Downloading Image #25 from http://www.amazing-places.com/wp-content/uploads/2017/05/pinguins.jpg\n",
            "[%] File Downloaded !\n",
            "\n",
            "[%] Downloading Image #26 from http://s1.ibtimes.com/sites/www.ibtimes.com/files/styles/embed/public/2018/04/25/penguin.jpg\n",
            "[%] File Downloaded !\n",
            "\n",
            "[%] Downloading Image #27 from http://news.nationalgeographic.com/content/dam/news/2016/06/29/adelie_penguin/01_adelie_penguin.ngsversion.1467230400583.jpg\n",
            "[!] Issue getting: http://news.nationalgeographic.com/content/dam/news/2016/06/29/adelie_penguin/01_adelie_penguin.ngsversion.1467230400583.jpg\n",
            "[!] Error:: HTTP Error 404: Not Found\n",
            "[%] Downloading Image #27 from https://chainimage.com/images/adelie-penguin-relationship-to-humans.jpg\n",
            "[%] File Downloaded !\n",
            "\n",
            "[%] Downloading Image #28 from https://1s2oosvtjy52xrh4r10z0zms-wpengine.netdna-ssl.com/wp-content/uploads/2019/09/emperor-penguin-chicks.jpg\n",
            "[%] File Downloaded !\n",
            "\n",
            "[%] Downloading Image #29 from https://i1.wp.com/viralityfacts.com/wp-content/uploads/2014/12/penguins-in-love-4.jpg?w=962&amp;ssl=1\n",
            "[%] File Downloaded !\n",
            "\n",
            "[%] Downloading Image #30 from https://www.aquariumofpacific.org/images/made_new/images-exhibits-anderson_portrait_600_q85.jpeg\n",
            "[%] File Downloaded !\n",
            "\n",
            "[%] Downloading Image #31 from https://i0.wp.com/viralityfacts.com/wp-content/uploads/2014/12/penguins-in-love-9.jpg?w=962&amp;ssl=1\n",
            "[%] File Downloaded !\n",
            "\n",
            "[%] Downloading Image #32 from http://antarcticguide.com/wp-content/uploads/2011/10/blog_0551.jpg\n",
            "[%] File Downloaded !\n",
            "\n",
            "[%] Downloading Image #33 from https://www.darter.in/wp-content/uploads/2019/03/Penguin-Antarctica-02.jpg\n",
            "[%] File Downloaded !\n",
            "\n",
            "[%] Downloading Image #34 from https://web.archive.org/web/20160819165315/http://blog.destinationecuador.com/wp-content/uploads/2016/02/Galapagos-penguin-pair.jpg\n",
            "[Error]Invalid image, not saving https://web.archive.org/web/20160819165315/http://blog.destinationecuador.com/wp-content/uploads/2016/02/Galapagos-penguin-pair.jpg\n",
            "\n",
            "[!] Issue getting: https://web.archive.org/web/20160819165315/http://blog.destinationecuador.com/wp-content/uploads/2016/02/Galapagos-penguin-pair.jpg\n",
            "[!] Error:: Invalid image, not saving https://web.archive.org/web/20160819165315/http://blog.destinationecuador.com/wp-content/uploads/2016/02/Galapagos-penguin-pair.jpg\n",
            "\n",
            "[%] Downloading Image #34 from http://1.bp.blogspot.com/-Y34zIgftaX4/UFU28ZmAqvI/AAAAAAAACZQ/pGM3PuFd0i4/s1600/Royal-Penguin.jpg\n",
            "[%] File Downloaded !\n",
            "\n",
            "[%] Downloading Image #35 from https://cdn.discover-the-world.com/app/uploads/2018/05/antarctica-adelie-penguin-gt-800x0-c-default.jpg\n",
            "[%] File Downloaded !\n",
            "\n",
            "[%] Downloading Image #36 from https://i.pinimg.com/736x/ed/77/4f/ed774f4227c8b6e6c3f8a7e75223f110.jpg\n",
            "[%] File Downloaded !\n",
            "\n",
            "[%] Downloading Image #37 from https://lh3.googleusercontent.com/-ygULHxNJT-8/TYH5hhh3k2I/AAAAAAAABww/OlluaALuxlU/w1200-h630-p-k-nu/rockhopper-penguins.jpg\n",
            "[%] File Downloaded !\n",
            "\n",
            "[%] Downloading Image #38 from https://www.aquariumofpacific.org/images/exhibits/penguin_portrait-astaire500.jpg\n",
            "[%] File Downloaded !\n",
            "\n",
            "[%] Downloading Image #39 from https://i1.wp.com/thelosangelesbeat.com/wp-content/uploads/2012/05/penguin226-Small.jpg\n",
            "[%] File Downloaded !\n",
            "\n",
            "[%] Downloading Image #40 from https://www.whats-your-sign.com/wp-content/uploads/2018/04/PenguinSlide1.jpg\n",
            "[%] File Downloaded !\n",
            "\n",
            "[%] Downloading Image #41 from https://www.ourbreathingplanet.com/wp-content/uploads/2019/08/Little-Penguin-3.jpg\n",
            "[%] File Downloaded !\n",
            "\n",
            "[%] Downloading Image #42 from https://static.wixstatic.com/media/0eefae_ce8a9ec26dba4ad58555c28d0363e5cb~mv2.jpeg/v1/fill/w_840,h_840,fp_0.50_0.50,q_90/0eefae_ce8a9ec26dba4ad58555c28d0363e5cb~mv2.jpeg\n",
            "[%] File Downloaded !\n",
            "\n",
            "[%] Downloading Image #43 from https://image.jimcdn.com/app/cms/image/transf/dimension=990x10000:format=jpg/path/s84afce38611cf0b3/image/i51d16f82c813694a/version/1580808396/image.jpg\n",
            "[%] File Downloaded !\n",
            "\n",
            "[%] Downloading Image #44 from https://2.bp.blogspot.com/_W90V87w3sr8/TOaa1ObkTbI/AAAAAAAAAOE/lEi-R00VT2k/s320/Little+Penguin.jpg\n",
            "[%] File Downloaded !\n",
            "\n",
            "[%] Downloading Image #45 from https://i.pinimg.com/736x/90/c9/74/90c974d9d1f8b0a4202d1ae771bd85fd--penguins-trivia.jpg\n",
            "[%] File Downloaded !\n",
            "\n",
            "\n",
            "\n",
            "[!!]Indexing page: 2\n",
            "\n",
            "[%] Indexed 35 Images on Page 2.\n",
            "\n",
            "===============================================\n",
            "\n",
            "[%] Downloading Image #46 from https://www.rd.com/wp-content/uploads/2020/01/emperor-penguins-brave-a-storm-in-the-antarctica-jan-2016.jpg\n",
            "[%] File Downloaded !\n",
            "\n",
            "[%] Downloading Image #47 from https://4.bp.blogspot.com/-pU5ZvS92JJc/TV94pCbT36I/AAAAAAAAAyw/Clbw1GB4Fi0/s1600/Chinstrap+Pe.jpg\n",
            "[%] File Downloaded !\n",
            "\n",
            "[%] Downloading Image #48 from https://www.worldatlas.com/r/w1200/upload/31/e8/b8/shutterstock-1214030362.jpg\n",
            "[Error]Invalid image, not saving https://www.worldatlas.com/r/w1200/upload/31/e8/b8/shutterstock-1214030362.jpg\n",
            "\n",
            "[!] Issue getting: https://www.worldatlas.com/r/w1200/upload/31/e8/b8/shutterstock-1214030362.jpg\n",
            "[!] Error:: Invalid image, not saving https://www.worldatlas.com/r/w1200/upload/31/e8/b8/shutterstock-1214030362.jpg\n",
            "\n",
            "[%] Downloading Image #48 from https://www.thoughtco.com/thmb/cZhWFIbY159WF1JfCe5vH-3C1_U=/2121x1414/filters:no_upscale():max_bytes(150000):strip_icc()/GettyImages-670771046-59a606e99abed50011eb1368.jpg\n",
            "[%] File Downloaded !\n",
            "\n",
            "[%] Downloading Image #49 from https://animallova.com/wp-content/uploads/2019/08/antarctica-emperor-penguins-white-desert-2.jpg\n",
            "[%] File Downloaded !\n",
            "\n",
            "[%] Downloading Image #50 from https://www.ourbreathingplanet.com/wp-content/uploads/2019/03/African-Penguin-4-683x1024.jpg\n",
            "[%] File Downloaded !\n",
            "\n",
            "\n",
            "\n",
            "[%] Done. Downloaded 50 images.\n",
            "===============================================\n",
            "\n",
            "Please show your support here\n",
            "https://www.buymeacoffee.com/gurugaurav\n",
            "\n",
            "===============================================\n",
            "\n"
          ],
          "name": "stdout"
        }
      ]
    },
    {
      "cell_type": "code",
      "metadata": {
        "id": "Lpg4ld7404rb"
      },
      "source": [
        ""
      ],
      "execution_count": null,
      "outputs": []
    },
    {
      "cell_type": "code",
      "metadata": {
        "id": "1cXuKNYGKDji"
      },
      "source": [
        "import os\n",
        "import matplotlib.pyplot as plt\n",
        "import numpy as np\n",
        "from skimage.io import imread\n",
        "from skimage.transform import resize\n",
        "\n",
        "target=[]\n",
        "images=[]\n",
        "flat_data=[]\n",
        "\n",
        "DATADIR = '/content/images'\n",
        "CATEGORIES = ['polar bear species','penguin species']\n",
        "\n",
        "for category in CATEGORIES:\n",
        "  class_num = CATEGORIES.index(category)\n",
        "  path=os.path.join(DATADIR,category)\n",
        "\n",
        "  for img in os.listdir(path):\n",
        "    img_array = imread(os.path.join(path,img))\n",
        "    \n",
        "    img_resized = resize(img_array,(150,150,3))\n",
        "    flat_data.append(img_resized.flatten())\n",
        "    images.append(img_resized)\n",
        "    target.append(class_num)\n",
        "\n",
        "flat_data = np.array(flat_data)\n",
        "target = np.array(target)\n",
        "images = np.array(images)\n"
      ],
      "execution_count": null,
      "outputs": []
    },
    {
      "cell_type": "code",
      "metadata": {
        "id": "JcS6jPpe0_gY"
      },
      "source": [
        ""
      ],
      "execution_count": null,
      "outputs": []
    },
    {
      "cell_type": "code",
      "metadata": {
        "colab": {
          "base_uri": "https://localhost:8080/",
          "height": 283
        },
        "id": "5JY-RGLdKlLA",
        "outputId": "2a96ab4a-1ec9-41fc-d9c1-286f55c47469"
      },
      "source": [
        "unique,count=np.unique(target,return_counts=True)\n",
        "plt.bar(CATEGORIES,count)"
      ],
      "execution_count": null,
      "outputs": [
        {
          "output_type": "execute_result",
          "data": {
            "text/plain": [
              "<BarContainer object of 2 artists>"
            ]
          },
          "metadata": {
            "tags": []
          },
          "execution_count": 6
        },
        {
          "output_type": "display_data",
          "data": {
            "image/png": "[encoded data removed]",
            "text/plain": [
              "<Figure size 432x288 with 1 Axes>"
            ]
          },
          "metadata": {
            "tags": [],
            "needs_background": "light"
          }
        }
      ]
    },
    {
      "cell_type": "code",
      "metadata": {
        "id": "p6A_6vTD1W2Z"
      },
      "source": [
        ""
      ],
      "execution_count": null,
      "outputs": []
    },
    {
      "cell_type": "code",
      "metadata": {
        "id": "SRkHAwKzKtEX"
      },
      "source": [
        "from sklearn.model_selection import train_test_split\n",
        "x_train,x_test,y_train,y_test = train_test_split(flat_data,target,\n",
        "                                  test_size=0.3,random_state=109)"
      ],
      "execution_count": null,
      "outputs": []
    },
    {
      "cell_type": "code",
      "metadata": {
        "id": "Hs1A3Szs1aca"
      },
      "source": [
        ""
      ],
      "execution_count": null,
      "outputs": []
    },
    {
      "cell_type": "code",
      "metadata": {
        "colab": {
          "base_uri": "https://localhost:8080/"
        },
        "id": "jHCdGPxq8YvD",
        "outputId": "08337284-cdc1-4d4c-919c-d6565c4c9e33"
      },
      "source": [
        "from xgboost import XGBClassifier\n",
        "model= XGBClassifier( gamma = 0,\n",
        "                     subsample=1,\n",
        "              learning_rate=0.1, \n",
        "              max_depth=3,  \n",
        "              min_child_weight=1,\n",
        "              n_estimators=100,\n",
        "              random_state=0,\n",
        "              reg_alpha=0, \n",
        "              reg_lambda=1\n",
        ")\n",
        "\n",
        "model.fit(x_train,y_train)\n",
        "y_pred = model.predict(x_test)\n",
        "y_train_pred = model.predict(x_train)\n",
        "from  sklearn.metrics import accuracy_score\n",
        "print('Train accuracy', accuracy_score(y_train,y_train_pred))\n",
        "print('Test accuracy', accuracy_score(y_pred,y_test))"
      ],
      "execution_count": null,
      "outputs": [
        {
          "output_type": "stream",
          "text": [
            "Train accuracy 1.0\n",
            "Test accuracy 0.7333333333333333\n"
          ],
          "name": "stdout"
        }
      ]
    },
    {
      "cell_type": "code",
      "metadata": {
        "id": "Wr0krV8UDNvm"
      },
      "source": [
        ""
      ],
      "execution_count": null,
      "outputs": []
    },
    {
      "cell_type": "code",
      "metadata": {
        "id": "c86Y2MNWMHue",
        "colab": {
          "base_uri": "https://localhost:8080/"
        },
        "outputId": "1216126b-82bf-4c81-f29b-a84a2dca7086"
      },
      "source": [
        "import joblib\n",
        "joblib.dump(model,'img_model')"
      ],
      "execution_count": null,
      "outputs": [
        {
          "output_type": "execute_result",
          "data": {
            "text/plain": [
              "['img_model']"
            ]
          },
          "metadata": {
            "tags": []
          },
          "execution_count": 9
        }
      ]
    },
    {
      "cell_type": "code",
      "metadata": {
        "id": "xJiV4_hgMXMD"
      },
      "source": [
        "model = joblib.load('img_model')"
      ],
      "execution_count": null,
      "outputs": []
    },
    {
      "cell_type": "code",
      "metadata": {
        "colab": {
          "base_uri": "https://localhost:8080/"
        },
        "id": "5klf7HaY5fmt",
        "outputId": "2e81285f-c50f-4c5d-cf78-2ff341f3fb36"
      },
      "source": [
        "!pip install streamlit --quiet\n",
        "!pip install pyngrok==4.1.1\n",
        "from pyngrok import ngrok"
      ],
      "execution_count": null,
      "outputs": [
        {
          "output_type": "stream",
          "text": [
            "\u001b[K     |████████████████████████████████| 7.8MB 8.1MB/s \n",
            "\u001b[K     |████████████████████████████████| 174kB 48.6MB/s \n",
            "\u001b[K     |████████████████████████████████| 4.2MB 35.3MB/s \n",
            "\u001b[K     |████████████████████████████████| 112kB 59.5MB/s \n",
            "\u001b[K     |████████████████████████████████| 81kB 11.3MB/s \n",
            "\u001b[K     |████████████████████████████████| 71kB 9.8MB/s \n",
            "\u001b[K     |████████████████████████████████| 122kB 49.6MB/s \n",
            "\u001b[?25h  Building wheel for blinker (setup.py) ... \u001b[?25l\u001b[?25hdone\n",
            "\u001b[31mERROR: google-colab 1.0.0 has requirement ipykernel~=4.10, but you'll have ipykernel 5.5.5 which is incompatible.\u001b[0m\n",
            "Collecting pyngrok==4.1.1\n",
            "  Downloading https://files.pythonhosted.org/packages/e4/a9/de2e15c92eb3aa4a2646ce3a7542317eb69ac47f667578ce8bf916320847/pyngrok-4.1.1.tar.gz\n",
            "Requirement already satisfied: future in /usr/local/lib/python3.7/dist-packages (from pyngrok==4.1.1) (0.16.0)\n",
            "Requirement already satisfied: PyYAML in /usr/local/lib/python3.7/dist-packages (from pyngrok==4.1.1) (3.13)\n",
            "Building wheels for collected packages: pyngrok\n",
            "  Building wheel for pyngrok (setup.py) ... \u001b[?25l\u001b[?25hdone\n",
            "  Created wheel for pyngrok: filename=pyngrok-4.1.1-cp37-none-any.whl size=15985 sha256=d07898b40172ac769c3eebc83e158fcc56e50791e2ecde1e143be80e5828c3bf\n",
            "  Stored in directory: /root/.cache/pip/wheels/97/71/0d/1695f7c8815c0beb3b5d9b35d6eec9243c87e6070fbe3977fa\n",
            "Successfully built pyngrok\n",
            "Installing collected packages: pyngrok\n",
            "Successfully installed pyngrok-4.1.1\n"
          ],
          "name": "stdout"
        }
      ]
    },
    {
      "cell_type": "code",
      "metadata": {
        "colab": {
          "base_uri": "https://localhost:8080/"
        },
        "id": "8u3QdlwmP1YK",
        "outputId": "5033dda4-0ab2-47dd-c304-8967acd1b6fc"
      },
      "source": [
        "%%writefile app.py\n",
        "\n",
        "import streamlit as st\n",
        "import numpy as np\n",
        "from skimage.io import imread\n",
        "from skimage.transform import resize\n",
        "import joblib\n",
        "from PIL import Image\n",
        "\n",
        "\n",
        "st.title('Image Classification Deployment')\n",
        "st.text('Upload the Image')\n",
        "\n",
        "model = joblib.load('img_model')\n",
        "\n",
        "uploaded_file = st.file_uploader(\"Choose an image...\" , type=\"jpg\" )\n",
        "if uploaded_file is not None:\n",
        "  img = Image.open(uploaded_file)\n",
        "  st.image(img,caption='Uploaded Image')\n",
        "\n",
        "  if st.button('PREDICT'):\n",
        "    CATEGORIES = ['polar bear species','penguin species']\n",
        "    st.write('Result...')\n",
        "    flat_data = []   \n",
        "    img = np.array(img)\n",
        "    img_resized = resize(img,(150,150,3))\n",
        "    flat_data.append(img_resized.flatten())\n",
        "    flat_data = np.array(flat_data)\n",
        "    y_out = model.predict(flat_data)\n",
        "    y_out = CATEGORIES[y_out[0]]\n",
        "    st.write(f'PREDICTED OUTPUT : {y_out}') \n",
        "    r = model.predict_proba(flat_data)\n",
        "    for index, item in enumerate(CATEGORIES):\n",
        "      st.write(f'{item} : { r[0][index]*100}')\n",
        "\n",
        "\n"
      ],
      "execution_count": null,
      "outputs": [
        {
          "output_type": "stream",
          "text": [
            "Writing app.py\n"
          ],
          "name": "stdout"
        }
      ]
    },
    {
      "cell_type": "code",
      "metadata": {
        "id": "5lqyJ2FXDlKX"
      },
      "source": [
        ""
      ],
      "execution_count": null,
      "outputs": []
    },
    {
      "cell_type": "code",
      "metadata": {
        "id": "pFB6TUHUP3ba",
        "colab": {
          "base_uri": "https://localhost:8080/",
          "height": 53
        },
        "outputId": "75bf04aa-c46c-4361-bfab-d14f0442dece"
      },
      "source": [
        "!nohup streamlit run app.py &\n",
        "\n",
        "url = ngrok.connect(port='8501')\n",
        "url"
      ],
      "execution_count": null,
      "outputs": [
        {
          "output_type": "stream",
          "text": [
            "nohup: appending output to 'nohup.out'\n"
          ],
          "name": "stdout"
        },
        {
          "output_type": "execute_result",
          "data": {
            "application/vnd.google.colaboratory.intrinsic+json": {
              "type": "string"
            },
            "text/plain": [
              "'http://90fdfe8fdccc.ngrok.io'"
            ]
          },
          "metadata": {
            "tags": []
          },
          "execution_count": 13
        }
      ]
    }
  ]
}